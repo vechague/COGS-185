{
  "nbformat": 4,
  "nbformat_minor": 0,
  "metadata": {
    "colab": {
      "provenance": [],
      "authorship_tag": "ABX9TyN3RBedZ/YFxjQ8rW2Ch/Ld"
    },
    "kernelspec": {
      "name": "python3",
      "display_name": "Python 3"
    },
    "language_info": {
      "name": "python"
    }
  },
  "cells": [
    {
      "cell_type": "code",
      "execution_count": null,
      "metadata": {
        "colab": {
          "base_uri": "https://localhost:8080/"
        },
        "id": "FZKR_WSoZQgD",
        "outputId": "5075f44c-b26a-4731-d740-980124b24614"
      },
      "outputs": [
        {
          "output_type": "stream",
          "name": "stdout",
          "text": [
            "Cloning into 'char-rnn.pytorch'...\n",
            "remote: Enumerating objects: 54, done.\u001b[K\n",
            "remote: Total 54 (delta 0), reused 0 (delta 0), pack-reused 54 (from 1)\u001b[K\n",
            "Receiving objects: 100% (54/54), 11.79 KiB | 11.79 MiB/s, done.\n",
            "Resolving deltas: 100% (30/30), done.\n",
            "/content/char-rnn.pytorch\n"
          ]
        }
      ],
      "source": [
        "!git clone https://github.com/spro/char-rnn.pytorch.git\n",
        "%cd char-rnn.pytorch"
      ]
    },
    {
      "cell_type": "code",
      "source": [
        "!pip install unidecode"
      ],
      "metadata": {
        "colab": {
          "base_uri": "https://localhost:8080/"
        },
        "id": "TpoF-AulzDqP",
        "outputId": "028d0f94-db55-4c3d-8728-46d2b0d6418d"
      },
      "execution_count": null,
      "outputs": [
        {
          "output_type": "stream",
          "name": "stdout",
          "text": [
            "Collecting unidecode\n",
            "  Downloading Unidecode-1.4.0-py3-none-any.whl.metadata (13 kB)\n",
            "Downloading Unidecode-1.4.0-py3-none-any.whl (235 kB)\n",
            "\u001b[?25l   \u001b[90m━━━━━━━━━━━━━━━━━━━━━━━━━━━━━━━━━━━━━━━━\u001b[0m \u001b[32m0.0/235.8 kB\u001b[0m \u001b[31m?\u001b[0m eta \u001b[36m-:--:--\u001b[0m\r\u001b[2K   \u001b[90m━━━━━━━━━━━━━━━━━━━━━━━━━━━━━━━━━━━━━━━━\u001b[0m \u001b[32m235.8/235.8 kB\u001b[0m \u001b[31m8.1 MB/s\u001b[0m eta \u001b[36m0:00:00\u001b[0m\n",
            "\u001b[?25hInstalling collected packages: unidecode\n",
            "Successfully installed unidecode-1.4.0\n"
          ]
        }
      ]
    },
    {
      "cell_type": "code",
      "source": [
        "!python train.py /content/cnus.txt --n_epochs 1000 --hidden_size 64"
      ],
      "metadata": {
        "colab": {
          "base_uri": "https://localhost:8080/"
        },
        "id": "uJfPrqx4D-Tp",
        "outputId": "9dfd21bd-6707-4d6c-fc72-78e45b4931ca"
      },
      "execution_count": null,
      "outputs": [
        {
          "output_type": "stream",
          "name": "stdout",
          "text": [
            "Training for 1000 epochs...\n",
            " 10% 99/1000 [01:00<08:28,  1.77it/s][1m 1s (100 10%) 2.0485]\n",
            "Whpork\n",
            "     the many poliseld, mying is enses the he son was a,\n",
            "     ballend,se so wkas was the cartad \n",
            "\n",
            " 20% 199/1000 [02:01<07:37,  1.75it/s][2m 1s (200 20%) 1.8337]\n",
            "Whe was the of the ided her uden, bee was and hall\n",
            "     the me trade he wall day\n",
            "\n",
            "      Hise.\n",
            "\n",
            "     \"I \n",
            "\n",
            " 30% 299/1000 [03:02<06:45,  1.73it/s][3m 2s (300 30%) 1.7205]\n",
            "Where as a emy that dice-sace foold.\n",
            "\n",
            "     \"I his hinstallers one dast.\"\n",
            "\n",
            "     \"I terurd uriated of ca \n",
            "\n",
            " 40% 399/1000 [04:04<06:12,  1.62it/s][4m 4s (400 40%) 1.6653]\n",
            "What chian stevere\n",
            "     questimes for any a from with we lout gard\n",
            "     the hound the thome said, on p \n",
            "\n",
            " 50% 499/1000 [05:06<05:03,  1.65it/s][5m 6s (500 50%) 1.6203]\n",
            "What\n",
            "     bife must the bub our sear weed. Mured white a out shall asted,\n",
            "     mind that hit on in tha \n",
            "\n",
            " 60% 599/1000 [06:07<04:10,  1.60it/s][6m 8s (600 60%) 1.5886]\n",
            "What in at he tow. 'On it a billy of\n",
            "     the tow roined her he boy. Asly that you that he tare coly.  \n",
            "\n",
            " 70% 699/1000 [07:08<03:27,  1.45it/s][7m 9s (700 70%) 1.5565]\n",
            "What all with\n",
            "     you notting old very tarin his sistces tray the littrare dew\n",
            "     bovery sow deails \n",
            "\n",
            " 80% 799/1000 [08:09<02:08,  1.57it/s][8m 10s (800 80%) 1.5388]\n",
            "What exary that the had bether your instibling into have Hell in you\n",
            "     going for some start that yo \n",
            "\n",
            " 90% 899/1000 [09:10<00:57,  1.75it/s][9m 10s (900 90%) 1.5261]\n",
            "Whation we time of the should loo proprounds.\n",
            "\n",
            "     \"Well?\"  Shesshleast that the that allly the gunso \n",
            "\n",
            "100% 999/1000 [10:12<00:00,  1.74it/s][10m 12s (1000 100%) 1.5226]\n",
            "Which day\n",
            "     rainitice his apprise. The to tole Sey would shoner have for\n",
            "     some no chasted see s \n",
            "\n",
            "100% 1000/1000 [10:12<00:00,  1.63it/s]\n",
            "Saving...\n",
            "Saved as cnus.pt\n"
          ]
        }
      ]
    },
    {
      "cell_type": "code",
      "source": [
        "!python generate.py cnus.pt --prime_str \"Where\" -l 500"
      ],
      "metadata": {
        "colab": {
          "base_uri": "https://localhost:8080/"
        },
        "id": "EwIfE-6sEAHY",
        "outputId": "312857c5-d866-4341-e249-c31d9e8f8520"
      },
      "execution_count": null,
      "outputs": [
        {
          "output_type": "stream",
          "name": "stdout",
          "text": [
            "Where in the I racing me compertids. The his ask that\n",
            "     you ronitge-comments. You there a mollar. I can with breamphand\n",
            "     for an were\n",
            "     Spark to a fully--and acfted with, see concerning clive\n",
            "     it Collatgen yoursenating and brock to wind do had dobous fanming\n",
            "     are as Shind the sat. I from the sore, contining\n",
            "     been this liement into stefped with a note-nopon that it was that\n",
            "     wlowlad this doth. The see and wing the master last be good\n",
            "     he almans to before are found reasilin\n"
          ]
        }
      ]
    },
    {
      "cell_type": "code",
      "source": [
        "!python generate.py cnus.pt --prime_str \"Home\" -l 500"
      ],
      "metadata": {
        "colab": {
          "base_uri": "https://localhost:8080/"
        },
        "id": "RF_F4Dv6EC19",
        "outputId": "f62a8e4d-e42e-4076-f00c-0a693707e966"
      },
      "execution_count": null,
      "outputs": [
        {
          "output_type": "stream",
          "name": "stdout",
          "text": [
            "Home, and as man,\" said Holmrorgre whispect, as I dake it of any time carred? Walker,\" said he wild start on! Good.\n",
            "\n",
            "     \"The is alrait take that so was a husk for whier Mavrenks.\"\n",
            "\n",
            "     \"The monent on the man my connotring, it was Mrs, Willy fully sivey\n",
            "     friend. I daped with me. But I sar, and no had not of\n",
            "     the bover and was second of the persuins to make last of the\n",
            "     one came a. Here to me everton.\n",
            "\n",
            "     \"That's hall do my evidence that I side it moment by strack\n",
            "     known of the so\n"
          ]
        }
      ]
    },
    {
      "cell_type": "code",
      "source": [
        "!python train.py /content/cnus.txt --n_epochs 1000 --hidden_size 128"
      ],
      "metadata": {
        "colab": {
          "base_uri": "https://localhost:8080/"
        },
        "id": "Q83Qh6AHbNDJ",
        "outputId": "bcfe540b-0377-4062-c366-03246585a6d1"
      },
      "execution_count": null,
      "outputs": [
        {
          "output_type": "stream",
          "name": "stdout",
          "text": [
            "Training for 1000 epochs...\n",
            " 10% 99/1000 [01:26<12:31,  1.20it/s][1m 27s (100 10%) 1.6028]\n",
            "Which a past docent. Thes twill as is menter door\n",
            "     been the had sone think instecthed as from the\n",
            " \n",
            "\n",
            " 20% 199/1000 [02:53<11:03,  1.21it/s][2m 54s (200 20%) 1.4730]\n",
            "What, and the stance while a said by crimsolute see the\n",
            "     burning. Out\n",
            "     finger was a\n",
            "     did h \n",
            "\n",
            " 30% 299/1000 [04:19<09:57,  1.17it/s][4m 20s (300 30%) 1.3680]\n",
            "Whse of these are fail had been it was buall Auresten we most and offel with never sweer, but I had be \n",
            "\n",
            " 40% 399/1000 [05:43<10:01,  1.00s/it][5m 44s (400 40%) 1.3287]\n",
            "What is then he was my would have already unchested time in\n",
            "     fine here, the each lauder I saw the  \n",
            "\n",
            " 50% 499/1000 [07:07<06:34,  1.27it/s][7m 8s (500 50%) 1.2914]\n",
            "Who are the present the mease\n",
            "     well as I have been been Hurit into you go in a back to already har \n",
            "\n",
            " 60% 599/1000 [08:31<05:24,  1.24it/s][8m 31s (600 60%) 1.2866]\n",
            "When the man who were better\n",
            "     the exactly to be out a confeded from raised in the wooden\n",
            "     hour \n",
            "\n",
            " 70% 699/1000 [09:56<04:14,  1.18it/s][9m 56s (700 70%) 1.2886]\n",
            "Whit Stapleton\n",
            "     and met in the room. The moment a woman for put herself. The lady to\n",
            "     decibili \n",
            "\n",
            " 80% 799/1000 [11:23<03:06,  1.08it/s][11m 23s (800 80%) 1.2488]\n",
            "What the doctor. He turning work upon the decided I\n",
            "     breath-handed swear prove to that in my lette \n",
            "\n",
            " 90% 899/1000 [12:49<01:42,  1.01s/it][12m 50s (900 90%) 1.2413]\n",
            "Who there was not\n",
            "     in the near remarked, and I had read three attempt to the stepn with\n",
            "     the p \n",
            "\n",
            "100% 999/1000 [14:15<00:00,  1.19it/s][14m 16s (1000 100%) 1.2516]\n",
            "Whe had a tinge for a\n",
            "     air of the head--\" I was miles, if said the Coloured.\"\n",
            "\n",
            "     \"How railt! Mr \n",
            "\n",
            "100% 1000/1000 [14:16<00:00,  1.17it/s]\n",
            "Saving...\n",
            "Saved as cnus.pt\n"
          ]
        }
      ]
    },
    {
      "cell_type": "code",
      "source": [
        "!python generate.py cnus.pt --prime_str \"Where\" -l 500"
      ],
      "metadata": {
        "colab": {
          "base_uri": "https://localhost:8080/"
        },
        "id": "YJj8sTrMyzXo",
        "outputId": "4bd24115-c967-43c7-dcbf-e548db72c9d2"
      },
      "execution_count": null,
      "outputs": [
        {
          "output_type": "stream",
          "name": "stdout",
          "text": [
            "Where an understand. I had beauth of the\n",
            "     conveye too leave had been soon my an ear-footsteps some bad\n",
            "     and fined all rising referret of it old, the words with which in the\n",
            "     several stranger in the ring a farth days of the bladia of a few horror that the\n",
            "     entered that it was a watched and even ourselves trained at it distrest.\n",
            "     Alern a liness were for all there as she were a ring which they leave it\n",
            "     the leaning shrok in the conterting these arrived attending by\n",
            "     and other\n"
          ]
        }
      ]
    },
    {
      "cell_type": "code",
      "source": [
        "!python generate.py cnus.pt --prime_str \"Home\" -l 500"
      ],
      "metadata": {
        "colab": {
          "base_uri": "https://localhost:8080/"
        },
        "id": "K5GtFOjz0BM5",
        "outputId": "d36d9a0f-2e76-46b7-bda1-60d282d988d9"
      },
      "execution_count": null,
      "outputs": [
        {
          "output_type": "stream",
          "name": "stdout",
          "text": [
            "Homes examined the hurried for all myself, when the day any side. Not with a back\n",
            "     to it will ever hardly make if your big in she were the door of the\n",
            "     seemed him. It was a meaking the head of these with a heavisy, and prefer\n",
            "     about the most common with his way. Holmes relaway which had a very table,\n",
            "     and the enhapping an opened to here of the clear entered.\n",
            "\n",
            "     \"That is to be done in the stust. It is no pained, and the farther all\n",
            "     able the man only myself by himsole examined \n"
          ]
        }
      ]
    },
    {
      "cell_type": "code",
      "source": [
        "!python train.py /content/cnus.txt --n_epochs 1000 --hidden_size 256"
      ],
      "metadata": {
        "colab": {
          "base_uri": "https://localhost:8080/"
        },
        "id": "ZtOEuCf09ltt",
        "outputId": "18b8588c-235c-4b04-daaf-38de14078cd3"
      },
      "execution_count": null,
      "outputs": [
        {
          "output_type": "stream",
          "name": "stdout",
          "text": [
            "Training for 1000 epochs...\n",
            " 10% 99/1000 [02:56<25:56,  1.73s/it][2m 58s (100 10%) 1.6698]\n",
            "Where face.\n",
            "     \"But Holmes of the metred out mormenter; but yeom yers my the pridon\n",
            "     a fing that \n",
            "\n",
            " 20% 199/1000 [05:53<22:51,  1.71s/it][5m 55s (200 20%) 1.4863]\n",
            "What is it a gassing. Dit resulations of his alter the doubt. It wait against you aniston old into was \n",
            "\n",
            " 30% 299/1000 [08:51<20:02,  1.72s/it][8m 52s (300 30%) 1.3679]\n",
            "What is a proched from a beative.\n",
            "\n",
            "     \"'I was commise every defirest was some\n",
            "     and natural not p \n",
            "\n",
            " 40% 399/1000 [11:51<18:42,  1.87s/it][11m 53s (400 40%) 1.3220]\n",
            "When did with a seen than we give my oden in which that here you\n",
            "     remarking that you incranty of t \n",
            "\n",
            " 50% 499/1000 [14:50<15:46,  1.89s/it][14m 52s (500 50%) 1.3073]\n",
            "Wham?\"\n",
            "\n",
            "     \"I say.\"\n",
            "\n",
            "     \"Come, Holmes said upon oniel and the absoke it.\n",
            "\n",
            "     \"You are about last \n",
            "\n",
            " 60% 599/1000 [17:46<12:37,  1.89s/it][17m 48s (600 60%) 1.2611]\n",
            "When thanted, Watson?\"\n",
            "\n",
            "     \"I spired at the clear in the ailasm that has been about the bows\n",
            "     a  \n",
            "\n",
            " 70% 699/1000 [20:42<08:51,  1.76s/it][20m 44s (700 70%) 1.2569]\n",
            "What is the embring forward of their taken?\"\n",
            "\n",
            "     \"It is come of it as Dr. Mr. Holmes, with his are t \n",
            "\n",
            " 80% 799/1000 [23:36<05:41,  1.70s/it][23m 38s (800 80%) 1.2107]\n",
            "What will go won that it is the standing the defernation\n",
            "     day of a could gettenerve to me come tha \n",
            "\n",
            " 90% 899/1000 [26:32<02:53,  1.72s/it][26m 33s (900 90%) 1.2257]\n",
            "Why, at the\n",
            "     wards we have hardly read from the officers. The\n",
            "     private stood dule the emwhistl \n",
            "\n",
            "100% 999/1000 [29:27<00:01,  1.68s/it][29m 29s (1000 100%) 1.2179]\n",
            "Why,\" said he, 'he would open.\"\n",
            "\n",
            "     \"If the last on the most there will he is company on to anything \n",
            "\n",
            "100% 1000/1000 [29:29<00:00,  1.77s/it]\n",
            "Saving...\n",
            "Saved as cnus.pt\n"
          ]
        }
      ]
    },
    {
      "cell_type": "code",
      "source": [
        "!python generate.py cnus.pt --prime_str \"Where\" -l 500"
      ],
      "metadata": {
        "colab": {
          "base_uri": "https://localhost:8080/"
        },
        "id": "_4_NxnBhEEqx",
        "outputId": "6eec23ef-38ff-4569-ccee-604cef5ee31e"
      },
      "execution_count": null,
      "outputs": [
        {
          "output_type": "stream",
          "name": "stdout",
          "text": [
            "Where's you will not some minute's\n",
            "     as I that the very curiousles. There are the frightened, and the took was just it, rushs had\n",
            "     this disarself it selfur, and that atween from his hands of my one\n",
            "     and at a minutes. It was enorty when he has put the first state who boy for the\n",
            "     garden face which I have may found the second steps which is all the lack for a mouth,\n",
            "     hook him that it was think that a laving has a hold from the\n",
            "     formit, and it was only started that she seized to d\n"
          ]
        }
      ]
    },
    {
      "cell_type": "code",
      "source": [
        "!python generate.py cnus.pt --prime_str \"Home\" -l 500"
      ],
      "metadata": {
        "colab": {
          "base_uri": "https://localhost:8080/"
        },
        "id": "fwQTqqf5EFWa",
        "outputId": "4d20f92a-5cc8-439e-fd4e-7f4de8702816"
      },
      "execution_count": null,
      "outputs": [
        {
          "output_type": "stream",
          "name": "stdout",
          "text": [
            "Home, sir, and she think we an instants, and the stoon of the slipport with his\n",
            "     seven of his ford in his out was for a such a suggestive he knifie like a best like a power be very stops\n",
            "     to the door. No worked to my own contray of a smoute in their reason. Ah,\n",
            "     while the Cotche to the whole more villey to not seat. Nothing of it know my\n",
            "     full of him. I am every name.\"\n",
            "\n",
            "     The Durn his involved, I was a pocket, as we said a told were an\n",
            "     thruster had act. Then an inch as and sh\n"
          ]
        }
      ]
    },
    {
      "cell_type": "markdown",
      "source": [
        "Proceed with 256 hidden state. In the training above, a learning rate of 0.01 was used however below I will try different learning rates to see if it yields better results"
      ],
      "metadata": {
        "id": "hgY_6PUOZq4M"
      }
    },
    {
      "cell_type": "code",
      "source": [
        "!python train.py /content/cnus.txt --n_epochs 1000 --hidden_size 256 --learning_rate 0.001"
      ],
      "metadata": {
        "colab": {
          "base_uri": "https://localhost:8080/"
        },
        "id": "QmLtiIqzF2f5",
        "outputId": "0a309c8c-1d68-447b-fc4d-722bef39a3b8"
      },
      "execution_count": null,
      "outputs": [
        {
          "output_type": "stream",
          "name": "stdout",
          "text": [
            "Training for 1000 epochs...\n",
            " 10% 99/1000 [02:51<27:56,  1.86s/it][2m 53s (100 10%) 1.8918]\n",
            "Whas whas of ibter the wo litht lell of in to wa ant ladlened thoundce.\n",
            "\n",
            "     The be. Huron eer\n",
            "     i \n",
            "\n",
            " 20% 199/1000 [05:45<22:44,  1.70s/it][5m 47s (200 20%) 1.5797]\n",
            "Whe man alselged in they, said which\n",
            "     where with the from my\n",
            "     as the pertail concention a prou \n",
            "\n",
            " 30% 299/1000 [08:37<19:13,  1.65s/it][8m 39s (300 30%) 1.4325]\n",
            "Whese a\n",
            "     led the deover over at lized it is that a moment now the face of that it is for the way w \n",
            "\n",
            " 40% 399/1000 [11:29<17:47,  1.78s/it][11m 31s (400 40%) 1.3471]\n",
            "What is the fire\n",
            "     which you will safe of a death, that it was more and sabery he famular of the la \n",
            "\n",
            " 50% 499/1000 [14:22<14:10,  1.70s/it][14m 24s (500 50%) 1.2508]\n",
            "What the man the hort of the minderer. It is the time\n",
            "     and our use something as the one was servin \n",
            "\n",
            " 60% 599/1000 [17:09<11:16,  1.69s/it][17m 10s (600 60%) 1.2336]\n",
            "What was storm on the room for\n",
            "     sofitable corried strike broken guess down the states and listenti \n",
            "\n",
            " 70% 699/1000 [19:54<08:13,  1.64s/it][19m 56s (700 70%) 1.2338]\n",
            "What has have\n",
            "     heard hid it so us, which seen all long rill of night of him away to follow in the  \n",
            "\n",
            " 80% 799/1000 [22:47<06:02,  1.80s/it][22m 49s (800 80%) 1.2029]\n",
            "What she can be very\n",
            "     destrained her settled to accustomed from a turn me, we\n",
            "     was dressed all \n",
            "\n",
            " 90% 899/1000 [25:43<03:09,  1.88s/it][25m 45s (900 90%) 1.1755]\n",
            "Why did you to your hand to him.\n",
            "\n",
            "     \"The sum upon the front of the signal deather has been to the c \n",
            "\n",
            "100% 999/1000 [28:42<00:01,  1.90s/it][28m 43s (1000 100%) 1.1677]\n",
            "What it was the\n",
            "     time from his word of his rubban. Half as we can, nor we shut often the one of\n",
            "   \n",
            "\n",
            "100% 1000/1000 [28:44<00:00,  1.72s/it]\n",
            "Saving...\n",
            "Saved as cnus.pt\n"
          ]
        }
      ]
    },
    {
      "cell_type": "code",
      "source": [
        "!python generate.py cnus.pt --prime_str \"Where\" -l 500"
      ],
      "metadata": {
        "colab": {
          "base_uri": "https://localhost:8080/"
        },
        "id": "20ZaHtppcvui",
        "outputId": "7cc6f38a-9b41-4965-ca86-6ca1b0e043f8"
      },
      "execution_count": null,
      "outputs": [
        {
          "output_type": "stream",
          "name": "stdout",
          "text": [
            "Where both still we could\n",
            "     say that they are more lawled out and strange round when the last day responsible\n",
            "     pipe.\n",
            "\n",
            "     \"I would do at the man with the firmur, we could not destroy\n",
            "     of him at a visitor, and he had come as I had we have so shaking out of\n",
            "     servant could not think I shall you able to attension of the\n",
            "     straight from that secret, seen it up and a going decired to me.\n",
            "\n",
            "     \"He was her things, that the lead in the station were very good with really mind upon\n",
            "     his \n"
          ]
        }
      ]
    },
    {
      "cell_type": "code",
      "source": [
        "!python generate.py cnus.pt --prime_str \"Home\" -l 500"
      ],
      "metadata": {
        "colab": {
          "base_uri": "https://localhost:8080/"
        },
        "id": "8X0Du-kCcx0U",
        "outputId": "5c6daa15-5d56-4151-9d94-5d6305dd6bc3"
      },
      "execution_count": null,
      "outputs": [
        {
          "output_type": "stream",
          "name": "stdout",
          "text": [
            "Home best eyes which had turned all. There is\n",
            "     the first, and we had never packed to his best to be at some visitors so\n",
            "     innocent point who had been looked an excellent.\"\n",
            "\n",
            "     \"I should live the great mething.\"\n",
            "\n",
            "     \"And yet he was in a bonemer, and then, we could say that I have\n",
            "     answered, I think no during us to the other of the doctor.\n",
            "\n",
            "     \"I fear the Manor. Holmes had imagine. There will, sir, with you here we\n",
            "     seems after patches in this parenting in my handsome and his case\n"
          ]
        }
      ]
    },
    {
      "cell_type": "code",
      "source": [
        "!python train.py /content/cnus.txt --n_epochs 1000 --hidden_size 256 --learning_rate 0.0001"
      ],
      "metadata": {
        "colab": {
          "base_uri": "https://localhost:8080/"
        },
        "id": "_NVJMSNscuBj",
        "outputId": "419675f5-827f-4a0b-d453-9fbab63b850c"
      },
      "execution_count": null,
      "outputs": [
        {
          "output_type": "stream",
          "name": "stdout",
          "text": [
            "Training for 1000 epochs...\n",
            " 10% 99/1000 [02:56<27:12,  1.81s/it][2m 58s (100 10%) 2.9174]\n",
            "Wh?C|) b' n sieo  ett  m \"hemo  lgl  flpo athrwe oo   h oh h\"eoeeedi s aw  ti lrh taeetrse   dge e  ao \n",
            "\n",
            " 20% 199/1000 [05:54<23:22,  1.75s/it][5m 56s (200 20%) 2.4486]\n",
            "Wh*OImfmoy iho t. aomento i dhacnaq  hor erend fu bs wssde har\n",
            "      hro te  is thole oM, hhe top\n",
            "     \n",
            "\n",
            " 30% 299/1000 [08:53<20:29,  1.75s/it][8m 55s (300 30%) 2.2259]\n",
            "WhS_anind Mak t|erdJere my\n",
            "      ol the fos, I ned.\n",
            "     wid eheatod sion haw sone ber hra@d fems thet \n",
            "\n",
            " 40% 399/1000 [11:48<16:45,  1.67s/it][11m 50s (400 40%) 2.0750]\n",
            "Whet pave as theadweon the hout trance bergo tha? he the the tartang he the as whe mot hang al her the \n",
            "\n",
            " 50% 499/1000 [14:44<13:53,  1.66s/it][14m 46s (500 50%) 1.9775]\n",
            "Why.\"\n",
            "\n",
            "     sostetare single ards in digory the the wand bein't o nof\n",
            "     hel-werlwimly Hou pation in \n",
            "\n",
            " 60% 599/1000 [17:41<11:28,  1.72s/it][17m 43s (600 60%) 1.8800]\n",
            "WhYy he Mre int is one concoher. Anifan in hly nould of darchels compred couny my of becesing and lond \n",
            "\n",
            " 70% 699/1000 [20:38<08:42,  1.74s/it][20m 40s (700 70%) 1.8094]\n",
            "Wher a with and where inthe ame and a one corcer.\"\n",
            "     \"Sown to and mation his solepes, as man. It he \n",
            "\n",
            " 80% 799/1000 [23:35<05:53,  1.76s/it][23m 36s (800 80%) 1.7411]\n",
            "WhE\n",
            "     \"Fouddelcee, sefaint of the stelr ady and but tride never and comheright wo\n",
            "     the grearsin \n",
            "\n",
            " 90% 899/1000 [26:34<02:58,  1.77s/it][26m 36s (900 90%) 1.6988]\n",
            "Whely a more and mear of a had which had I she have was\n",
            "     and upon that I somttred down gent as our \n",
            "\n",
            "100% 999/1000 [29:33<00:01,  1.76s/it][29m 35s (1000 100%) 1.6525]\n",
            "Whas probess, the trats of his pyound the stancer the dould for upon that I marding seast in-of hood o \n",
            "\n",
            "100% 1000/1000 [29:35<00:00,  1.78s/it]\n",
            "Saving...\n",
            "Saved as cnus.pt\n"
          ]
        }
      ]
    },
    {
      "cell_type": "code",
      "source": [
        "!python generate.py cnus.pt --prime_str \"Where\" -l 500"
      ],
      "metadata": {
        "colab": {
          "base_uri": "https://localhost:8080/"
        },
        "id": "e5yzyhzsc2p-",
        "outputId": "6889704e-3d23-4801-cdb3-f0f345db02a0"
      },
      "execution_count": null,
      "outputs": [
        {
          "output_type": "stream",
          "name": "stdout",
          "text": [
            "Where starld been as did tal stains, whth sich Bong has his treage just Stordery of\n",
            "     plaponary as billow to my been was\n",
            "     you wour all that which and througal, have he for the peatht wwe-to dear he sain was the face gaked there tanvend of the last opering to geen and I becould you the moning fer a mank at d shads pong helred\n",
            "     was poted down with\n",
            "     that a wish the was\n",
            "     domess which the to my stlock?\"\n",
            "\n",
            "     \"He was there man into that him what he his man\n",
            "     we\n",
            "     that for a pyessi\n"
          ]
        }
      ]
    },
    {
      "cell_type": "code",
      "source": [
        "!python generate.py cnus.pt --prime_str \"Home\" -l 500"
      ],
      "metadata": {
        "colab": {
          "base_uri": "https://localhost:8080/"
        },
        "id": "eknqy1u0c1rV",
        "outputId": "6c19909b-32a4-46ca-c34a-259bfb4858ed"
      },
      "execution_count": null,
      "outputs": [
        {
          "output_type": "stream",
          "name": "stdout",
          "text": [
            "Home sond the one. I and your are the listered it the room the was weethan riming an a carring no poock for with in the at her of the and it in the find to have nuestow man of list carned was a lean the wast so-goolvew with no     soad Holmes, and that the quession to be worn at his could-lect, what of for she in and respent at of\n",
            "     is conpaning there the tor, not be hard mind the clome, and the was and wure ever dost undersure hese. \"And he. He hand he from though were cour gigled man in when of\n"
          ]
        }
      ]
    },
    {
      "cell_type": "markdown",
      "source": [
        "Proceed with learning rate 0.001 and tune chunk_len"
      ],
      "metadata": {
        "id": "-FxEaZes0dso"
      }
    },
    {
      "cell_type": "code",
      "source": [
        "!python train.py /content/cnus.txt --n_epochs 1000 --hidden_size 256 --learning_rate 0.001 --chunk_len 300"
      ],
      "metadata": {
        "colab": {
          "base_uri": "https://localhost:8080/"
        },
        "id": "4lEKypuOUcfI",
        "outputId": "d53cca20-7658-46f8-a90d-ed0b16d25bbf"
      },
      "execution_count": null,
      "outputs": [
        {
          "output_type": "stream",
          "name": "stdout",
          "text": [
            "Training for 1000 epochs...\n",
            " 10% 99/1000 [04:28<40:23,  2.69s/it][4m 31s (100 10%) 1.9004]\n",
            "Whe for. I no seull a insey\n",
            "     miders\n",
            "     ware the deet, and or thous math otwen is hin was of coul \n",
            "\n",
            " 20% 199/1000 [09:06<37:15,  2.79s/it][9m 8s (200 20%) 1.5484]\n",
            "When the sight Holmes, and clearnon, brow that it, what here piched our to and I shappope that he we r \n",
            "\n",
            " 30% 299/1000 [13:45<32:17,  2.76s/it][13m 48s (300 30%) 1.4057]\n",
            "While the made was interuthing and I gave a space to the seames, and, we\n",
            "     can the might. But to ma \n",
            "\n",
            " 40% 399/1000 [18:23<28:28,  2.84s/it][18m 25s (400 40%) 1.3236]\n",
            "Whe enemy in suchest of the extromplice in the Colonel, with his kneed confulful some\n",
            "     have any ex \n",
            "\n",
            " 50% 499/1000 [22:58<23:10,  2.78s/it][23m 1s (500 50%) 1.2663]\n",
            "Where is the room\n",
            "     a crimision that--a man deep-too friend, person of avain his end.\n",
            "\n",
            "     \"Yes, a \n",
            "\n",
            " 60% 599/1000 [27:30<18:02,  2.70s/it][27m 33s (600 60%) 1.2215]\n",
            "Where is he received when us not\n",
            "     presence. It was a blind-had a game and he would? \"Yes, the lant \n",
            "\n",
            " 70% 699/1000 [32:05<14:18,  2.85s/it][32m 8s (700 70%) 1.1716]\n",
            "What really do you mere of this\n",
            "     high of wait that I had took him from the house, and so far and\n",
            "  \n",
            "\n",
            " 80% 799/1000 [36:34<08:47,  2.62s/it][36m 36s (800 80%) 1.1793]\n",
            "What is no thoughts which showed his weeth of the way\n",
            "     aid no materity. I saydent words, reason ba \n",
            "\n",
            " 90% 899/1000 [40:57<04:25,  2.63s/it][40m 59s (900 90%) 1.1624]\n",
            "Whiskeys as to the other at the\n",
            "     brainer was greaths, and he returnable conversation.\"\n",
            "\n",
            "     \"I am \n",
            "\n",
            "100% 999/1000 [45:16<00:02,  2.64s/it][45m 18s (1000 100%) 1.1452]\n",
            "What is not hardly did you mind for\n",
            "     the hole to get me,\" said heard it, Watson, that I shall leav \n",
            "\n",
            "100% 1000/1000 [45:19<00:00,  2.72s/it]\n",
            "Saving...\n",
            "Saved as cnus.pt\n"
          ]
        }
      ]
    },
    {
      "cell_type": "code",
      "source": [
        "!python generate.py cnus.pt --prime_str \"Where\" -l 500"
      ],
      "metadata": {
        "colab": {
          "base_uri": "https://localhost:8080/"
        },
        "id": "GS0gNo4sP8ji",
        "outputId": "8e9b3b75-277a-4084-eb67-fc84809eaec2"
      },
      "execution_count": null,
      "outputs": [
        {
          "output_type": "stream",
          "name": "stdout",
          "text": [
            "Where's his half-draw her and leaves in the\n",
            "     tragedy to be a match of his country round when had\n",
            "     was papers, when he had man as you said that I asked that they may go to\n",
            "     a most family and the papers to fancy, thought anginueal and violent\n",
            "     trout across it. The terrible face of time?\"\n",
            "\n",
            "     \"Exactly.\"\n",
            "\n",
            "     \"Quite in my fury, and I gather you inducky the artharm with me, there came to see\n",
            "     he was all pall in tried from a hand.\n",
            "\n",
            "     \"'What is this, is in this hands or the bullet \n"
          ]
        }
      ]
    },
    {
      "cell_type": "code",
      "source": [
        "!python generate.py cnus.pt --prime_str \"Home\" -l 500"
      ],
      "metadata": {
        "colab": {
          "base_uri": "https://localhost:8080/"
        },
        "id": "tKkDdPc3P8sy",
        "outputId": "c006b482-d361-4c19-8e35-9959f8f32dfe"
      },
      "execution_count": null,
      "outputs": [
        {
          "output_type": "stream",
          "name": "stdout",
          "text": [
            "Home is a setting next morning.\n",
            "\n",
            "     \"Was to his wife to being back with the other mad in the experience\n",
            "     for the Charles Harrison and laid him at Sir Lestrade, Mr. Holmes, I had been\n",
            "     presume. I think you friend of my alittony in the old man, a friend,\n",
            "     fancy. It was done. I never love on his case like a tragedy which\n",
            "     written dewn household. It was a prevond to our practice, when we are\n",
            "     of me, but it will told us and smoked\n",
            "     been sitting on the white house, and he had say\n"
          ]
        }
      ]
    },
    {
      "cell_type": "code",
      "source": [
        "!python train.py /content/cnus.txt --n_epochs 1000 --hidden_size 256 --learning_rate 0.001 --chunk_len 400"
      ],
      "metadata": {
        "colab": {
          "base_uri": "https://localhost:8080/"
        },
        "id": "5tQw-pAFPto3",
        "outputId": "793b9b20-c357-453f-8446-8c31bf7f764a"
      },
      "execution_count": null,
      "outputs": [
        {
          "output_type": "stream",
          "name": "stdout",
          "text": [
            "Training for 1000 epochs...\n",
            " 10% 99/1000 [05:39<52:21,  3.49s/it][5m 42s (100 10%) 1.8553]\n",
            "When coued to mave withand\n",
            "     his in with me wass. He clratithe neadirestor. The a to micable\n",
            "     i \n",
            "\n",
            " 20% 199/1000 [11:27<46:33,  3.49s/it][11m 30s (200 20%) 1.5220]\n",
            "Whiins in the man or gillan me do camong the man her it wite comperstand of the boost that Morentter\n",
            "  \n",
            "\n",
            " 30% 299/1000 [17:19<41:27,  3.55s/it][17m 22s (300 30%) 1.3785]\n",
            "What stare of the strange at the been professed his\n",
            "     flom. \"They haters the deal Struck in there,\" \n",
            "\n",
            " 40% 399/1000 [23:12<35:54,  3.59s/it][23m 15s (400 40%) 1.2692]\n",
            "Whe see my fact, little time to words\n",
            "     also as the misting a singular best of the expect a mears f \n",
            "\n",
            " 50% 499/1000 [29:13<29:12,  3.50s/it][29m 16s (500 50%) 1.2231]\n",
            "Where of course like as me our\n",
            "     best hot her might be us, and anything as I can have now, and the  \n",
            "\n",
            " 60% 599/1000 [35:13<23:28,  3.51s/it][35m 17s (600 60%) 1.2084]\n",
            "Which I have gone with the charmenty, and\n",
            "     in the girl storia permit post. It was a most fear affa \n",
            "\n",
            " 70% 699/1000 [41:11<17:46,  3.54s/it][41m 15s (700 70%) 1.1971]\n",
            "Where are brought the reville was a public\n",
            "     stawled, and we had anything, and we had at me of the  \n",
            "\n",
            " 80% 799/1000 [47:02<11:44,  3.51s/it][47m 5s (800 80%) 1.1448]\n",
            "Whest I could not go and\n",
            "     discoverted the long behind him, and is long case me out, and I\n",
            "     hav \n",
            "\n",
            " 90% 899/1000 [52:53<05:55,  3.52s/it][52m 56s (900 90%) 1.1119]\n",
            "Which are no connected him, the light\n",
            "     room, as she should not guide the circle is being a world a \n",
            "\n",
            "100% 999/1000 [58:48<00:03,  3.57s/it][58m 52s (1000 100%) 1.1029]\n",
            "When it is so slamed he and she had been\n",
            "     acting in his life and in a fine to the door he could re \n",
            "\n",
            "100% 1000/1000 [58:52<00:00,  3.53s/it]\n",
            "Saving...\n",
            "Saved as cnus.pt\n"
          ]
        }
      ]
    },
    {
      "cell_type": "code",
      "source": [
        "!python generate.py cnus.pt --prime_str \"Where\" -l 500"
      ],
      "metadata": {
        "colab": {
          "base_uri": "https://localhost:8080/"
        },
        "id": "4oAJlJFpP9RW",
        "outputId": "07a76178-9bed-4215-ce03-4f6a6cdbe2fa"
      },
      "execution_count": null,
      "outputs": [
        {
          "output_type": "stream",
          "name": "stdout",
          "text": [
            "Where's really a business, Murious possible\n",
            "     with his business inscration.\n",
            "\n",
            "     \"It is Martin't Lard. She was wealth framed to the door in Mr.\n",
            "     Brother Mortimer who it was puttred. And yet one of the first man Millar's\n",
            "     straight was no truth of the dozen of the other wonder. He was dressizet upon\n",
            "     the attention that to the nights upon a rope of the lawny. \"To the Alpxack a white\n",
            "     enter when I know that, Watson?\" asked Holmes. \"I hair nothing which I know\n",
            "     it her feel some tes\n"
          ]
        }
      ]
    },
    {
      "cell_type": "code",
      "source": [
        "!python generate.py cnus.pt --prime_str \"Home\" -l 500"
      ],
      "metadata": {
        "colab": {
          "base_uri": "https://localhost:8080/"
        },
        "id": "DK3lsNgoP9Kl",
        "outputId": "c62be645-246a-4cc8-ddf6-2bfe4d9d8e99"
      },
      "execution_count": null,
      "outputs": [
        {
          "output_type": "stream",
          "name": "stdout",
          "text": [
            "Home galls upon the girl: Simmating\n",
            "     in a man who was kept in London.\"\n",
            "\n",
            "     \"The thought silence to the month of a poor the gravel. That\n",
            "     have heard the first is one who is no possible street. What is rose\n",
            "     consistently the other poliders with her husband. He would be a shrief out\n",
            "     on the window, he would not only keep out the worst. The twinkled\n",
            "     of the obtained upon the second shoulders from the charge in the\n",
            "     feeling which is no doubt of a coamsed him, cloth-glasses which\n"
          ]
        }
      ]
    },
    {
      "cell_type": "markdown",
      "source": [
        "keep chunk_len at 400"
      ],
      "metadata": {
        "id": "iUx52KdE19EJ"
      }
    },
    {
      "cell_type": "code",
      "source": [
        "!python train.py /content/cnus.txt --model lstm --n_epochs 1000 --hidden_size 256 --learning_rate 0.001"
      ],
      "metadata": {
        "colab": {
          "base_uri": "https://localhost:8080/"
        },
        "id": "-Y_rgSMNQJ9C",
        "outputId": "a83096b3-9726-4d0b-98e1-22eaf9b8ba9b"
      },
      "execution_count": null,
      "outputs": [
        {
          "output_type": "stream",
          "name": "stdout",
          "text": [
            "Training for 1000 epochs...\n",
            " 10% 99/1000 [04:36<43:13,  2.88s/it][4m 38s (100 10%) 2.1797]\n",
            "Whe he nore umon,  hils sthe he\" yadagre hat I hese ant ast\n",
            "\n",
            "      bour cound powd wof wousow bace wic \n",
            "\n",
            " 20% 199/1000 [09:09<35:03,  2.63s/it][9m 12s (200 20%) 1.8366]\n",
            "Whe ary his a with ictated hind as of where that the carseed his man a froSsadlad. A marted no the\n",
            "    \n",
            "\n",
            " 30% 299/1000 [13:43<34:32,  2.96s/it][13m 46s (300 30%) 1.6691]\n",
            "Whe bich you crass edessurly the tork as, Anlandre this single fast the know\n",
            "     the fooled of the sa \n",
            "\n",
            " 40% 399/1000 [18:19<28:03,  2.80s/it][18m 22s (400 40%) 1.5968]\n",
            "Whe gad on the nellition.\"\n",
            "\n",
            "     \"sot the fair of the was he ouseston.\"\n",
            "\n",
            "     \"'Well, my the trice to  \n",
            "\n",
            " 50% 499/1000 [22:50<22:33,  2.70s/it][22m 52s (500 50%) 1.5530]\n",
            "Where be turn past udone, which had not upon the offine whree that is yen the tought\n",
            "     that Sack up \n",
            "\n",
            " 60% 599/1000 [27:22<18:13,  2.73s/it][27m 25s (600 60%) 1.4570]\n",
            "Which Copanly that glandled in the faker and the goesing what not condensing. He was do for the keasil \n",
            "\n",
            " 70% 699/1000 [32:06<14:41,  2.93s/it][32m 9s (700 70%) 1.4168]\n",
            "Wherely at a stanced his consident, you was two are the sturn.\"\n",
            "\n",
            "     Mr. which he countival few you t \n",
            "\n",
            " 80% 799/1000 [36:50<09:27,  2.82s/it][36m 52s (800 80%) 1.3996]\n",
            "Where were that he has solverptable and when Dreponds of the stelling black it\n",
            "     beside in my firer \n",
            "\n",
            " 90% 899/1000 [41:34<04:42,  2.80s/it][41m 37s (900 90%) 1.3391]\n",
            "What I had come of a murderer,\n",
            "     but and its blookped the shometured by a low\n",
            "     dead the life of \n",
            "\n",
            "100% 999/1000 [46:12<00:02,  2.71s/it][46m 15s (1000 100%) 1.3164]\n",
            "Where these present.\n",
            "\n",
            "     \"Oh, and you are the such a door was criminal?\"\n",
            "\n",
            "     \"They firse that a ho \n",
            "\n",
            "100% 1000/1000 [46:15<00:00,  2.78s/it]\n",
            "Saving...\n",
            "Saved as cnus.pt\n"
          ]
        }
      ]
    },
    {
      "cell_type": "code",
      "source": [
        "!python generate.py cnus.pt --prime_str \"Where\" -l 500"
      ],
      "metadata": {
        "colab": {
          "base_uri": "https://localhost:8080/"
        },
        "id": "NVQwYOEr2kYl",
        "outputId": "e9c94a92-c213-4a1f-b005-94c44fb8beaf"
      },
      "execution_count": null,
      "outputs": [
        {
          "output_type": "stream",
          "name": "stdout",
          "text": [
            "Where you shall disposity.\n",
            "     The chemement by the office was it to quite side of Corfland that you\n",
            "     position this thinking and it heart in one only two belder upon\n",
            "     a laughing upon for it black the horse, there was a\n",
            "     secred of that one second outside to am bettered in the room was appound a wastered\n",
            "     the room by a garse of the windly on. As they do a night. Will.\n",
            "\n",
            "     \"You leading you,  I, in mandows wassay, as we are was at an off the\n",
            "     mark of the ear and nearly weanishered.\n"
          ]
        }
      ]
    },
    {
      "cell_type": "code",
      "source": [
        "!python generate.py cnus.pt --prime_str \"Home\" -l 500"
      ],
      "metadata": {
        "colab": {
          "base_uri": "https://localhost:8080/"
        },
        "id": "1yp_MLJ62mzP",
        "outputId": "12546cca-bd8f-4afe-dad8-8bdba04c23b8"
      },
      "execution_count": null,
      "outputs": [
        {
          "output_type": "stream",
          "name": "stdout",
          "text": [
            "Home in the can be there are dropped money, but he\n",
            "     has the that observery, there an attain of the statice, but I had I said\n",
            "     your very long the pill appounds which the house, you questions brotel, and she could not as my finued upon the\n",
            "     crime there was slowly road in a must stakebre crimision, and Holmes, which had\n",
            "     trust to delenity old begin evold suppose, was\n",
            "     the such slippered friend of evening. There is to the each was one of\n",
            "     the police to little know though the cent\n"
          ]
        }
      ]
    },
    {
      "cell_type": "markdown",
      "source": [
        "Proceed with GRU model"
      ],
      "metadata": {
        "id": "TIrTaJrrJYyM"
      }
    },
    {
      "cell_type": "code",
      "source": [
        "!python train.py /content/cnus.txt --n_epochs 5000 --hidden_size 256 --learning_rate 0.001 --chunk_len 300"
      ],
      "metadata": {
        "colab": {
          "base_uri": "https://localhost:8080/"
        },
        "id": "pcISpqoFJYQd",
        "outputId": "a50a653c-b2ac-47e1-f806-bba892fe39f6"
      },
      "execution_count": null,
      "outputs": [
        {
          "output_type": "stream",
          "name": "stdout",
          "text": [
            "Training for 5000 epochs...\n",
            "  2% 99/5000 [06:25<5:19:20,  3.91s/it][6m 29s (100 2%) 1.8829]\n",
            "Whis a there the lay. \"'I now the moold strome. This andse sites to the wasme was to of I whery wore s \n",
            "\n",
            "  4% 199/5000 [12:51<5:10:53,  3.89s/it][12m 55s (200 4%) 1.5539]\n",
            "Whil shorsied\n",
            "     you have dark the man in the dedramp the firtly will compoloce. Finlich upon the ha \n",
            "\n",
            "  6% 299/5000 [19:16<4:56:27,  3.78s/it][19m 20s (300 6%) 1.4091]\n",
            "Whe fath of by they has been had thing is an only two inderans of\n",
            "     he had minused by the cheabiry  \n",
            "\n",
            "  8% 399/5000 [25:41<4:55:01,  3.85s/it][25m 45s (400 8%) 1.3164]\n",
            "Which myste of watched the matter\n",
            "     we had Holmes, some further were words. The case of the followi \n",
            "\n",
            " 10% 499/5000 [32:05<4:41:10,  3.75s/it][32m 9s (500 10%) 1.2684]\n",
            "Whe waities about the time\n",
            "     ball. A servants to hear of the house, and my\n",
            "     road upon his excus \n",
            "\n",
            " 12% 599/5000 [38:28<4:52:45,  3.99s/it][38m 32s (600 12%) 1.2139]\n",
            "Wha will have used mattile of\n",
            "     put of their case, of week nothing in exult between the\n",
            "     drawn  \n",
            "\n",
            " 14% 699/5000 [44:52<4:35:01,  3.84s/it][44m 55s (700 14%) 1.1998]\n",
            "Why know who could have a word of\n",
            "     the door?\"\n",
            "\n",
            "     \"Deep you.\"\n",
            "\n",
            "     \"Not up the mountimate of th \n",
            "\n",
            " 16% 799/5000 [51:16<4:21:36,  3.74s/it][51m 20s (800 16%) 1.1700]\n",
            "Whe ferely compelled each suspected\n",
            "     next clue must have and more to which this policed\n",
            "     have  \n",
            "\n",
            " 18% 899/5000 [57:41<4:27:33,  3.91s/it][57m 44s (900 18%) 1.1461]\n",
            "When the wrong dender which was a\n",
            "     lawn of cut upon my hands to problem it tell us the darkness li \n",
            "\n",
            " 20% 999/5000 [1:04:04<4:12:32,  3.79s/it][64m 7s (1000 20%) 1.1342]\n",
            "Where is, deepents, to the road. \"I have at\n",
            "     this witnity he was some lantern steps and sprang to  \n",
            "\n",
            " 22% 1099/5000 [1:10:25<4:05:39,  3.78s/it][70m 30s (1100 22%) 1.1325]\n",
            "Why, it was not a valuable\n",
            "     strangers under that I will find a friend it is the fortunate and man  \n",
            "\n",
            " 24% 1199/5000 [1:16:48<4:04:03,  3.85s/it][76m 52s (1200 24%) 1.1205]\n",
            "Wher that my friend had\n",
            "     been searched, and failed me from home, there is nothing. Here is this\n",
            "   \n",
            "\n",
            " 26% 1299/5000 [1:23:14<3:57:56,  3.86s/it][83m 18s (1300 26%) 1.0858]\n",
            "When proved to make our hands. Mr. Mycroft the\n",
            "     station in the sellow that we had heard of my init \n",
            "\n",
            " 28% 1399/5000 [1:29:39<3:54:51,  3.91s/it][89m 43s (1400 28%) 1.0991]\n",
            "Why Moriarty that you met a\n",
            "     mine to said all that is on examination. \"I would do nothing,\"\n",
            "       \n",
            "\n",
            " 30% 1499/5000 [1:36:05<3:41:25,  3.79s/it][96m 9s (1500 30%) 1.0822]\n",
            "Which was just expressed that\n",
            "     perceive, Watson, this man who had flickening noted with some\n",
            "      \n",
            "\n",
            " 32% 1599/5000 [1:42:31<3:42:48,  3.93s/it][102m 35s (1600 32%) 1.1045]\n",
            "Whlen by the police and with a\n",
            "     windows of the name which I have already got the really can used b \n",
            "\n",
            " 34% 1699/5000 [1:48:56<3:35:29,  3.92s/it][108m 59s (1700 34%) 1.0704]\n",
            "When he should be so unfortune that\n",
            "     there was a rich great study and contained. I was going to hi \n",
            "\n",
            " 36% 1799/5000 [1:55:21<3:33:37,  4.00s/it][115m 25s (1800 36%) 1.0583]\n",
            "What you will mean that being a\n",
            "     little time. I should certainly be into the dead, but I was some  \n",
            "\n",
            " 38% 1899/5000 [2:01:46<3:18:14,  3.84s/it][121m 49s (1900 38%) 1.0581]\n",
            "What in you or all that this neck.\"\n",
            "\n",
            "     Holmes said to his first certaining the other accomplishment \n",
            "\n",
            " 40% 1999/5000 [2:08:09<3:09:05,  3.78s/it][128m 13s (2000 40%) 1.0259]\n",
            "What would he believe when we shall be a\n",
            "     mere which would travel with a fair person of Dr. Cross  \n",
            "\n",
            " 42% 2099/5000 [2:14:31<3:06:30,  3.86s/it][134m 35s (2100 42%) 1.0528]\n",
            "Which him,\" said Holmes. \"It is a convict to the\n",
            "     symnow complete.\"\n",
            "\n",
            "     \"Never want a letter of  \n",
            "\n",
            " 44% 2199/5000 [2:20:55<2:58:18,  3.82s/it][140m 59s (2200 44%) 1.0420]\n",
            "What a third public,\n",
            "     which was no doubt that it shall be done by a bad that Sherlock\n",
            "     Holmes  \n",
            "\n",
            " 46% 2299/5000 [2:27:19<2:50:06,  3.78s/it][147m 23s (2300 46%) 1.0222]\n",
            "What you\n",
            "     know it, if we can't be absolutely singular deep in this other\n",
            "     place he was so it s \n",
            "\n",
            " 48% 2399/5000 [2:33:43<2:46:37,  3.84s/it][153m 47s (2400 48%) 1.0212]\n",
            "When shall have your exclamed his lock-made-pocket,\n",
            "     but I see how could he have to be presented t \n",
            "\n",
            " 50% 2499/5000 [2:40:03<2:38:29,  3.80s/it][160m 6s (2500 50%) 1.0191]\n",
            "Where was no pain,\n",
            "     which could be no dangerous in the room and also became sight. \n",
            "     On gettin \n",
            "\n",
            " 52% 2599/5000 [2:46:22<2:32:31,  3.81s/it][166m 26s (2600 52%) 1.0054]\n",
            "What is to you to let me effort.\n",
            "     This mastery, and I have hardly the hand of certain three night  \n",
            "\n",
            " 54% 2699/5000 [2:52:44<2:28:23,  3.87s/it][172m 47s (2700 54%) 1.0197]\n",
            "What is the door?\"\n",
            "\n",
            "     \"Where arrive if he is measurest council of foremark, and I have read it\n",
            "     \n",
            "\n",
            " 56% 2799/5000 [2:59:07<2:15:40,  3.70s/it][179m 11s (2800 56%) 0.9997]\n",
            "When I had no more indeed? You can proceed. The facts of\n",
            "     the dear Wabutation was unusual to him f \n",
            "\n",
            " 58% 2899/5000 [3:05:32<2:12:08,  3.77s/it][185m 35s (2900 57%) 1.0104]\n",
            "Which she was determined to see that any of your system\n",
            "     noiselessly concealed to the house ran ou \n",
            "\n",
            " 60% 2999/5000 [3:11:51<2:05:36,  3.77s/it][191m 55s (3000 60%) 1.0082]\n",
            "What your hands called me down the house of the\n",
            "     grounds carefully ever points a broad blood.\"\n",
            "\n",
            "   \n",
            "\n",
            " 62% 3099/5000 [3:18:12<2:00:06,  3.79s/it][198m 17s (3100 62%) 1.0110]\n",
            "Where I mentioned these if could not be much of\n",
            "     the instant like that he would give him to record \n",
            "\n",
            " 64% 3199/5000 [3:24:37<1:57:41,  3.92s/it][204m 40s (3200 64%) 1.0046]\n",
            "What could this, he had a paper down the paper came to our\n",
            "     newcomer entirely incodes at a fortune \n",
            "\n",
            " 66% 3299/5000 [3:31:01<1:46:52,  3.77s/it][211m 5s (3300 66%) 0.9943]\n",
            "Where they warrant to avail her.\n",
            "\n",
            "     \"My faithful door of the death Lady Luckee Desbeler in his dres \n",
            "\n",
            " 68% 3399/5000 [3:37:24<1:42:48,  3.85s/it][217m 28s (3400 68%) 0.9717]\n",
            "When I said, Mr. Williement!\"\n",
            "\n",
            "     \"It is very\n",
            "     cigantic that I was very much of their powers. Si \n",
            "\n",
            " 70% 3499/5000 [3:43:44<1:37:43,  3.91s/it][223m 48s (3500 70%) 0.9878]\n",
            "Whom have you going to hand it; but this is I wanted\n",
            "     to get ten minutes before my pistol in the c \n",
            "\n",
            " 72% 3599/5000 [3:50:04<1:30:26,  3.87s/it][230m 7s (3600 72%) 1.0090]\n",
            "What do you say?\"\n",
            "\n",
            "     \"I am the fine. The box down his way that we are for usually admit.\n",
            "     Poor  \n",
            "\n",
            " 74% 3699/5000 [3:56:26<1:23:03,  3.83s/it][236m 30s (3700 74%) 0.9846]\n",
            "What is this singular and relief.\n",
            "     I had probably competed us to that brother so still stood with  \n",
            "\n",
            " 76% 3799/5000 [4:02:52<1:19:28,  3.97s/it][242m 56s (3800 76%) 0.9807]\n",
            "Why, I think, and the top of those talents\n",
            "     some difficulty in the morning. Capture of being the s \n",
            "\n",
            " 78% 3899/5000 [4:09:17<1:08:52,  3.75s/it][249m 21s (3900 78%) 0.9747]\n",
            "Which occasion in the table, and a\n",
            "     hands were right, and without a case on America and making the \n",
            "\n",
            " 80% 3999/5000 [4:15:43<1:04:25,  3.86s/it][255m 46s (4000 80%) 0.9715]\n",
            "What\n",
            "     drupped her as I place me, from the carbin't made off that we have\n",
            "     too much of any clas \n",
            "\n",
            " 82% 4099/5000 [4:22:05<56:38,  3.77s/it][262m 9s (4100 82%) 0.9887]\n",
            "What is it? What does many hat, no doubt I tell\n",
            "     your life in the open which have seen your grass  \n",
            "\n",
            " 84% 4199/5000 [4:28:27<50:22,  3.77s/it][268m 31s (4200 84%) 0.9746]\n",
            "Where?\"\n",
            "\n",
            "     \"I am about to conceal it.\"\n",
            "\n",
            "     \"And you have no other singular remarks?\"\n",
            "\n",
            "     \"I do  \n",
            "\n",
            " 86% 4299/5000 [4:34:46<43:42,  3.74s/it][274m 50s (4300 86%) 0.9906]\n",
            "Which is not only by the beginning of it.\n",
            "     I wonder my temper young man and Drebber and he waited  \n",
            "\n",
            " 88% 4399/5000 [4:41:08<38:32,  3.85s/it][281m 11s (4400 88%) 0.9718]\n",
            "What is our little district. You don't make it seems to be\n",
            "     the evidence of the fate that you know \n",
            "\n",
            " 90% 4499/5000 [4:47:33<31:53,  3.82s/it][287m 37s (4500 90%) 0.9743]\n",
            "Which was her pistol, and half had\n",
            "     chanced that the maid so finished him into the house, and the  \n",
            "\n",
            " 92% 4599/5000 [4:53:57<26:20,  3.94s/it][294m 0s (4600 92%) 0.9833]\n",
            "Whoed it out to speak come into the farther and has not been\n",
            "     his fate?\"\n",
            "\n",
            "     \"The idea is if you \n",
            "\n",
            " 94% 4699/5000 [5:00:18<18:47,  3.75s/it][300m 22s (4700 94%) 0.9510]\n",
            "What a piece of the hound? I was\n",
            "     a thin really stayed out to have been in a foolish boy in the ch \n",
            "\n",
            " 96% 4799/5000 [5:06:42<12:39,  3.78s/it][306m 46s (4800 96%) 0.9922]\n",
            "When only a family itself, he went to the morning.\"\n",
            "\n",
            "     As it was that there was no sign of a powers \n",
            "\n",
            " 98% 4899/5000 [5:13:11<06:34,  3.91s/it][313m 14s (4900 98%) 0.9548]\n",
            "What is your case?\"\n",
            "\n",
            "     \"Most important,\" Holmes answered, \"but I knew that you are not cycle\n",
            "     i \n",
            "\n",
            "100% 4999/5000 [5:19:43<00:03,  3.87s/it][319m 47s (5000 100%) 0.9454]\n",
            "What is the man who was it?\"\n",
            "\n",
            "     \"And how met with me, sir. It certainly not the true facts.\"\n",
            "\n",
            "      \n",
            "\n",
            "100% 5000/5000 [5:19:47<00:00,  3.84s/it]\n",
            "Saving...\n",
            "Saved as cnus.pt\n"
          ]
        }
      ]
    },
    {
      "cell_type": "code",
      "source": [
        "!python generate.py cnus.pt --prime_str \"Where\" -l 500"
      ],
      "metadata": {
        "id": "mAbg1Lt72plu",
        "colab": {
          "base_uri": "https://localhost:8080/"
        },
        "outputId": "fd514350-709c-4e38-be50-ab597ab3c0e5"
      },
      "execution_count": null,
      "outputs": [
        {
          "output_type": "stream",
          "name": "stdout",
          "text": [
            "Where\n",
            "     are you to show any men,\" said Holmes, with a sensational small\n",
            "     windows. He looked at him upon the absent of his prisoner, calmly,\n",
            "     a light stared up at this very highest acting of the soft parlour\n",
            "     were as arms before me. There can be warred after in a few weakness\n",
            "     had been deviled by having a bit day one in the form of my carriage\n",
            "     made up here while we were esedulously. Now I had the death of the\n",
            "     creature and a week of the strength, so that it continued to hav\n"
          ]
        }
      ]
    },
    {
      "cell_type": "code",
      "source": [
        "!python generate.py cnus.pt --prime_str \"Home\" -l 500"
      ],
      "metadata": {
        "id": "kut-qQSDJkHz",
        "colab": {
          "base_uri": "https://localhost:8080/"
        },
        "outputId": "a17b1be1-72fd-4dfe-d714-91521c4905bf"
      },
      "execution_count": null,
      "outputs": [
        {
          "output_type": "stream",
          "name": "stdout",
          "text": [
            "Home and when we drove and a dangerous material smoking chain of a rat. His\n",
            "     schemer Stain I turned out about my hands to the long pain\n",
            "     irregular price out a little dark-headed road, as you saw, to the\n",
            "     wide late strange discolousness, and found now, all while his final\n",
            "     extraordinary chaff-experience were not for the little beech and\n",
            "     occurred, too. He has gone somewhat it corresponding in britz, and I\n",
            "     know that there was no signs of midnight night. We left him in an\n",
            "     \n"
          ]
        }
      ]
    },
    {
      "cell_type": "code",
      "source": [
        "!python generate.py cnus.pt -l 500"
      ],
      "metadata": {
        "id": "w0FPmI4DXObN",
        "colab": {
          "base_uri": "https://localhost:8080/"
        },
        "outputId": "7f72825d-c56f-49a8-f5d4-f0dc46279722"
      },
      "execution_count": null,
      "outputs": [
        {
          "output_type": "stream",
          "name": "stdout",
          "text": [
            "Afficial person loves about and the\n",
            "     existence to the past.\"\n",
            "\n",
            "     \"It was everywhere,\" said the porter about his eyes, grew into a\n",
            "     solution of alone which made him of him. It was the bestracy of\n",
            "     such a man's violin--and a clincing telegram from his colleration\n",
            "     which I had back the scale and power to do with him at least her to\n",
            "     him that you were as little which would save her lost in the morning\n",
            "     and can.\"\n",
            "\n",
            "     \"I should foll the person,\" said Holmes. \"I beg that you \n"
          ]
        }
      ]
    },
    {
      "cell_type": "code",
      "source": [],
      "metadata": {
        "id": "D79Tm5FghpS6"
      },
      "execution_count": null,
      "outputs": []
    }
  ]
}